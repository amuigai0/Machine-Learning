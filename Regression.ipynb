{
  "nbformat": 4,
  "nbformat_minor": 0,
  "metadata": {
    "colab": {
      "name": "Regression.ipynb",
      "provenance": [],
      "collapsed_sections": [],
      "authorship_tag": "ABX9TyMtpzZ7TMgesEdb0qH7sVfV",
      "include_colab_link": true
    },
    "kernelspec": {
      "name": "python3",
      "display_name": "Python 3"
    },
    "language_info": {
      "name": "python"
    }
  },
  "cells": [
    {
      "cell_type": "markdown",
      "metadata": {
        "id": "view-in-github",
        "colab_type": "text"
      },
      "source": [
        "<a href=\"https://colab.research.google.com/github/amuigai0/Machine-Learning/blob/main/Regression.ipynb\" target=\"_parent\"><img src=\"https://colab.research.google.com/assets/colab-badge.svg\" alt=\"Open In Colab\"/></a>"
      ]
    },
    {
      "cell_type": "code",
      "metadata": {
        "id": "lJPWiNsogZ0A"
      },
      "source": [
        "import numpy as np\n",
        "import matplotlib.pyplot as plt\n",
        "\n",
        "from numpy import random, sort"
      ],
      "execution_count": null,
      "outputs": []
    },
    {
      "cell_type": "code",
      "metadata": {
        "id": "4VOFYE6MgzU2"
      },
      "source": [
        "#Generates random dataset with a normal distribution\n",
        "x = sort(random.normal(120, 20, 100))\n",
        "y = sort(random.normal(15000 ,1000, 100))\n",
        "\n",
        "plt.scatter(x,y)\n",
        "plt.plot([min(x), max(x)], [min(y), max(y)], color='black')\n",
        "plt.show()\n",
        "\n"
      ],
      "execution_count": null,
      "outputs": []
    },
    {
      "cell_type": "code",
      "metadata": {
        "id": "glt8206Vhini"
      },
      "source": [
        "#Performance measure using mean squared error\n",
        "def mean_squared_error(y, y_hat, n):\n",
        "  squared_error_sum = 0\n",
        "\n",
        "  for i in range(n):\n",
        "    squared_error = (y[i] - y_hat[i]) ** 2\n",
        "    squared_error_sum += squared_error\n",
        "  mse = squared_error_sum / n\n",
        "\n",
        "  return mse\n",
        "\n",
        "n = len(x)\n",
        "\n",
        "\n",
        "# learned values of m and c after training\n",
        "learned_m = 0\n",
        "learned_c = 0"
      ],
      "execution_count": null,
      "outputs": []
    },
    {
      "cell_type": "code",
      "metadata": {
        "id": "v8KXtEFIWzks"
      },
      "source": [
        "def gradient_descent(x, y, lr, epochs):\n",
        "\n",
        "  m = 100\n",
        "  c = 5000\n",
        "\n",
        "  global n\n",
        "\n",
        "\n",
        "  for j in range(epochs):\n",
        "\n",
        "    y_hat=[]\n",
        "    for i in range(n):\n",
        "      y_hat.append(m * x[i] + c)\n",
        "    y_hat = sort(y_hat)\n",
        "    mse = mean_squared_error(y, y_hat, n)\n",
        "\n",
        "    errors_sum_m = 0\n",
        "\n",
        "    for i in range(n):\n",
        "      error_m = x[i] * (y[i] - y_hat[i])\n",
        "      errors_sum_m += error_m\n",
        "\n",
        "    partial_derivative_m= (-2/n * errors_sum_m)\n",
        "\n",
        "    #adjust m\n",
        "    a = m-lr * partial_derivative_m\n",
        "\n",
        "    #partial derivative c\n",
        "    errors_sum_c = 0\n",
        "\n",
        "    for i in range(n):\n",
        "      error_c = (y[i] - y_hat[i])\n",
        "      errors_sum_c += error_c\n",
        "\n",
        "    partial_derivative_c = (-2/n) * errors_sum_c\n",
        "\n",
        "    c = c -lr * partial_derivative_c\n",
        "\n",
        "  global learned_m\n",
        "  learned_m = m\n",
        "\n",
        "  global learned_c\n",
        "  learned_c = c"
      ],
      "execution_count": null,
      "outputs": []
    },
    {
      "cell_type": "code",
      "metadata": {
        "id": "P1mkPwVDaoMN"
      },
      "source": [
        "def plot(x, y_hat):\n",
        "  plt.scatter(x, y_hat)\n",
        "  plt.plot([min(x), max(x)], [min(y_hat), max(y_hat)], color='black')\n",
        "  plt.show()"
      ],
      "execution_count": null,
      "outputs": []
    },
    {
      "cell_type": "code",
      "metadata": {
        "id": "ddfaC-7Wc6qM"
      },
      "source": [
        "def predict(office_size):\n",
        "  gradient_descent(x, y, 0.000003, 100000)\n",
        "  global learned_c\n",
        "  global learned_m\n",
        "\n",
        "  prediction = learned_m * office_size + learned_c\n",
        "\n",
        "  print('Predicted value: ' + str(prediction))"
      ],
      "execution_count": null,
      "outputs": []
    },
    {
      "cell_type": "code",
      "metadata": {
        "id": "dK5AVX_Ef6K5"
      },
      "source": [
        "#Input value to predict the cost of the office\n",
        "predict(101)"
      ],
      "execution_count": null,
      "outputs": []
    }
  ]
}